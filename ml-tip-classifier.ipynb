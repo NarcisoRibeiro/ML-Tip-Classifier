{
 "cells": [
  {
   "cell_type": "markdown",
   "id": "f783dd31-c7da-49db-a117-66057786a42c",
   "metadata": {},
   "source": [
    "## 🧠 Project Objective\n",
    "\n",
    "# We will try to predict whether a tip is 'high' or 'low' based on other features in the dataset like total bill, day, smoker, etc.\n",
    "\n",
    "# We defined a binary label: \n",
    "\n",
    "> 1: High Tip\n",
    "> 0: Low Tip"
   ]
  },
  {
   "cell_type": "code",
   "execution_count": 4,
   "id": "810c66c8-b46f-4fe6-a1b5-c3e03933a3e1",
   "metadata": {},
   "outputs": [],
   "source": [
    "import pandas as pd\n",
    "df = pd.read_csv('https://raw.githubusercontent.com/mwaskom/seaborn-data/master/tips.csv')"
   ]
  },
  {
   "cell_type": "code",
   "execution_count": 8,
   "id": "cb5b7a96-9ada-4f19-be12-f1912db42d09",
   "metadata": {},
   "outputs": [
    {
     "name": "stdout",
     "output_type": "stream",
     "text": [
      "<class 'pandas.core.frame.DataFrame'>\n",
      "RangeIndex: 244 entries, 0 to 243\n",
      "Data columns (total 7 columns):\n",
      " #   Column      Non-Null Count  Dtype  \n",
      "---  ------      --------------  -----  \n",
      " 0   total_bill  244 non-null    float64\n",
      " 1   tip         244 non-null    float64\n",
      " 2   sex         244 non-null    object \n",
      " 3   smoker      244 non-null    object \n",
      " 4   day         244 non-null    object \n",
      " 5   time        244 non-null    object \n",
      " 6   size        244 non-null    int64  \n",
      "dtypes: float64(2), int64(1), object(4)\n",
      "memory usage: 13.5+ KB\n"
     ]
    }
   ],
   "source": [
    "df.info()"
   ]
  },
  {
   "cell_type": "code",
   "execution_count": 12,
   "id": "8aeaf82d-6ed9-4cc1-9e4e-a9d8d8d2c322",
   "metadata": {},
   "outputs": [
    {
     "data": {
      "text/html": [
       "<div>\n",
       "<style scoped>\n",
       "    .dataframe tbody tr th:only-of-type {\n",
       "        vertical-align: middle;\n",
       "    }\n",
       "\n",
       "    .dataframe tbody tr th {\n",
       "        vertical-align: top;\n",
       "    }\n",
       "\n",
       "    .dataframe thead th {\n",
       "        text-align: right;\n",
       "    }\n",
       "</style>\n",
       "<table border=\"1\" class=\"dataframe\">\n",
       "  <thead>\n",
       "    <tr style=\"text-align: right;\">\n",
       "      <th></th>\n",
       "      <th>total_bill</th>\n",
       "      <th>tip</th>\n",
       "      <th>size</th>\n",
       "    </tr>\n",
       "  </thead>\n",
       "  <tbody>\n",
       "    <tr>\n",
       "      <th>count</th>\n",
       "      <td>244.00</td>\n",
       "      <td>244.00</td>\n",
       "      <td>244.00</td>\n",
       "    </tr>\n",
       "    <tr>\n",
       "      <th>mean</th>\n",
       "      <td>19.79</td>\n",
       "      <td>3.00</td>\n",
       "      <td>2.57</td>\n",
       "    </tr>\n",
       "    <tr>\n",
       "      <th>std</th>\n",
       "      <td>8.90</td>\n",
       "      <td>1.38</td>\n",
       "      <td>0.95</td>\n",
       "    </tr>\n",
       "    <tr>\n",
       "      <th>min</th>\n",
       "      <td>3.07</td>\n",
       "      <td>1.00</td>\n",
       "      <td>1.00</td>\n",
       "    </tr>\n",
       "    <tr>\n",
       "      <th>25%</th>\n",
       "      <td>13.35</td>\n",
       "      <td>2.00</td>\n",
       "      <td>2.00</td>\n",
       "    </tr>\n",
       "    <tr>\n",
       "      <th>50%</th>\n",
       "      <td>17.80</td>\n",
       "      <td>2.90</td>\n",
       "      <td>2.00</td>\n",
       "    </tr>\n",
       "    <tr>\n",
       "      <th>75%</th>\n",
       "      <td>24.13</td>\n",
       "      <td>3.56</td>\n",
       "      <td>3.00</td>\n",
       "    </tr>\n",
       "    <tr>\n",
       "      <th>max</th>\n",
       "      <td>50.81</td>\n",
       "      <td>10.00</td>\n",
       "      <td>6.00</td>\n",
       "    </tr>\n",
       "  </tbody>\n",
       "</table>\n",
       "</div>"
      ],
      "text/plain": [
       "       total_bill     tip    size\n",
       "count      244.00  244.00  244.00\n",
       "mean        19.79    3.00    2.57\n",
       "std          8.90    1.38    0.95\n",
       "min          3.07    1.00    1.00\n",
       "25%         13.35    2.00    2.00\n",
       "50%         17.80    2.90    2.00\n",
       "75%         24.13    3.56    3.00\n",
       "max         50.81   10.00    6.00"
      ]
     },
     "execution_count": 12,
     "metadata": {},
     "output_type": "execute_result"
    }
   ],
   "source": [
    "df.describe().round(2)"
   ]
  },
  {
   "cell_type": "markdown",
   "id": "93844b89-69fa-4714-8a17-8771c5a89fb3",
   "metadata": {},
   "source": [
    "🎯 Step 2 — Define the ML Task\n",
    "\n",
    "We’ll create a binary classification task to predict whether a tip is “high” or “low”.\n",
    "\n",
    "Let’s define high tips as those greater than the median tip.\n",
    "📌 Why use the median?\n",
    "\n",
    "    Because it naturally splits the dataset in half\n",
    "\n",
    "    It’s more robust than the mean, especially in skewed distributions"
   ]
  },
  {
   "cell_type": "code",
   "execution_count": 22,
   "id": "74424409-412b-4527-8e12-709526c70c5a",
   "metadata": {},
   "outputs": [
    {
     "data": {
      "text/html": [
       "<div>\n",
       "<style scoped>\n",
       "    .dataframe tbody tr th:only-of-type {\n",
       "        vertical-align: middle;\n",
       "    }\n",
       "\n",
       "    .dataframe tbody tr th {\n",
       "        vertical-align: top;\n",
       "    }\n",
       "\n",
       "    .dataframe thead th {\n",
       "        text-align: right;\n",
       "    }\n",
       "</style>\n",
       "<table border=\"1\" class=\"dataframe\">\n",
       "  <thead>\n",
       "    <tr style=\"text-align: right;\">\n",
       "      <th></th>\n",
       "      <th>total_bill</th>\n",
       "      <th>tip</th>\n",
       "      <th>sex</th>\n",
       "      <th>smoker</th>\n",
       "      <th>day</th>\n",
       "      <th>time</th>\n",
       "      <th>size</th>\n",
       "      <th>high_tip</th>\n",
       "    </tr>\n",
       "  </thead>\n",
       "  <tbody>\n",
       "    <tr>\n",
       "      <th>0</th>\n",
       "      <td>16.99</td>\n",
       "      <td>1.01</td>\n",
       "      <td>Female</td>\n",
       "      <td>No</td>\n",
       "      <td>Sun</td>\n",
       "      <td>Dinner</td>\n",
       "      <td>2</td>\n",
       "      <td>0</td>\n",
       "    </tr>\n",
       "    <tr>\n",
       "      <th>1</th>\n",
       "      <td>10.34</td>\n",
       "      <td>1.66</td>\n",
       "      <td>Male</td>\n",
       "      <td>No</td>\n",
       "      <td>Sun</td>\n",
       "      <td>Dinner</td>\n",
       "      <td>3</td>\n",
       "      <td>0</td>\n",
       "    </tr>\n",
       "    <tr>\n",
       "      <th>2</th>\n",
       "      <td>21.01</td>\n",
       "      <td>3.50</td>\n",
       "      <td>Male</td>\n",
       "      <td>No</td>\n",
       "      <td>Sun</td>\n",
       "      <td>Dinner</td>\n",
       "      <td>3</td>\n",
       "      <td>1</td>\n",
       "    </tr>\n",
       "    <tr>\n",
       "      <th>3</th>\n",
       "      <td>23.68</td>\n",
       "      <td>3.31</td>\n",
       "      <td>Male</td>\n",
       "      <td>No</td>\n",
       "      <td>Sun</td>\n",
       "      <td>Dinner</td>\n",
       "      <td>2</td>\n",
       "      <td>1</td>\n",
       "    </tr>\n",
       "    <tr>\n",
       "      <th>4</th>\n",
       "      <td>24.59</td>\n",
       "      <td>3.61</td>\n",
       "      <td>Female</td>\n",
       "      <td>No</td>\n",
       "      <td>Sun</td>\n",
       "      <td>Dinner</td>\n",
       "      <td>4</td>\n",
       "      <td>1</td>\n",
       "    </tr>\n",
       "  </tbody>\n",
       "</table>\n",
       "</div>"
      ],
      "text/plain": [
       "   total_bill   tip     sex smoker  day    time  size  high_tip\n",
       "0       16.99  1.01  Female     No  Sun  Dinner     2         0\n",
       "1       10.34  1.66    Male     No  Sun  Dinner     3         0\n",
       "2       21.01  3.50    Male     No  Sun  Dinner     3         1\n",
       "3       23.68  3.31    Male     No  Sun  Dinner     2         1\n",
       "4       24.59  3.61  Female     No  Sun  Dinner     4         1"
      ]
     },
     "execution_count": 22,
     "metadata": {},
     "output_type": "execute_result"
    }
   ],
   "source": [
    "median_tip = df['tip'].median()\n",
    "df['high_tip'] = (df['tip'] > median_tip).astype(int)\n",
    "df.head()"
   ]
  },
  {
   "cell_type": "markdown",
   "id": "52cc3b06-3f7f-478b-a601-d944bb6f98fa",
   "metadata": {},
   "source": [
    "🧮 Step 3 — Select Features & Prepare Data\n",
    "\n",
    "Since we're doing a classification task, we need to:\n",
    "✅ 1. Choose Input Features\n",
    "\n",
    "We’ll use these columns as predictors:\n",
    "\n",
    "    total_bill (numeric)\n",
    "\n",
    "    size (numeric)\n",
    "\n",
    "    sex (categorical)\n",
    "\n",
    "    smoker (categorical)\n",
    "\n",
    "    day (categorical)\n",
    "\n",
    "    time (categorical)\n",
    "\n",
    "    ✅ Avoid using tip because it directly determines high_tip, our target."
   ]
  },
  {
   "cell_type": "code",
   "execution_count": 32,
   "id": "4f0f4983-d079-4855-b33b-c38564995cd6",
   "metadata": {},
   "outputs": [
    {
     "data": {
      "text/plain": [
       "array([[ 0.  ,  0.  ,  0.  , ...,  0.  , 16.99,  2.  ],\n",
       "       [ 1.  ,  0.  ,  0.  , ...,  0.  , 10.34,  3.  ],\n",
       "       [ 1.  ,  0.  ,  0.  , ...,  0.  , 21.01,  3.  ],\n",
       "       ...,\n",
       "       [ 1.  ,  1.  ,  1.  , ...,  0.  , 22.67,  2.  ],\n",
       "       [ 1.  ,  0.  ,  1.  , ...,  0.  , 17.82,  2.  ],\n",
       "       [ 0.  ,  0.  ,  0.  , ...,  0.  , 18.78,  2.  ]])"
      ]
     },
     "execution_count": 32,
     "metadata": {},
     "output_type": "execute_result"
    }
   ],
   "source": [
    "from sklearn.model_selection import train_test_split\n",
    "from sklearn.preprocessing import OneHotEncoder\n",
    "from sklearn.compose import ColumnTransformer\n",
    "\n",
    "# Separate features and target\n",
    "x = df[['total_bill', 'size', 'sex', 'smoker', 'day', 'time']]\n",
    "y = df['high_tip']\n",
    "\n",
    "# Define categorical columns\n",
    "categorical_cols = ['sex', 'smoker', 'day', 'time']\n",
    "\n",
    "# Column transformer to one-hot encode categorical features\\\n",
    "preprocessor = ColumnTransformer(\n",
    "    transformers=[\n",
    "        ('cat', OneHotEncoder(drop='first'), categorical_cols)\n",
    "    ],\n",
    "    remainder='passthrough' # keeps numerical features\n",
    "    )\n",
    "\n",
    "# Apply transformation \n",
    "\n",
    "x_processed = preprocessor.fit_transform(x)\n",
    "x_processed"
   ]
  },
  {
   "cell_type": "code",
   "execution_count": 34,
   "id": "013dca0d-add7-45aa-b7b6-5471adc6580d",
   "metadata": {},
   "outputs": [
    {
     "name": "stdout",
     "output_type": "stream",
     "text": [
      "Accuracy: 73.47%\n"
     ]
    }
   ],
   "source": [
    "from sklearn.model_selection import train_test_split\n",
    "from sklearn.linear_model import LogisticRegression\n",
    "from sklearn.metrics import accuracy_score\n",
    "\n",
    "# Split data\n",
    "x_train, x_test, y_train, y_test = train_test_split(x_processed, y, test_size=0.2, random_state=42)\n",
    "\n",
    "# Train model\n",
    "model = LogisticRegression()\n",
    "model.fit(x_train, y_train)\n",
    "\n",
    "# Predict\n",
    "y_pred = model.predict(x_test)\n",
    "\n",
    "# Evaluate\n",
    "accuracy = accuracy_score(y_test, y_pred)\n",
    "print(f\"Accuracy: {accuracy:.2%}\")\n",
    "\n",
    "# Accuracy measures the percentage of correct predictions\n"
   ]
  },
  {
   "cell_type": "code",
   "execution_count": 36,
   "id": "8c17eda5-5b80-41a0-afd6-7a24ed080b8a",
   "metadata": {},
   "outputs": [
    {
     "data": {
      "text/plain": [
       "array([[-0.09589204,  0.10604641, -0.63939768, -0.08590211, -0.14256006,\n",
       "        -0.50854713,  0.16490931,  0.34246408]])"
      ]
     },
     "execution_count": 36,
     "metadata": {},
     "output_type": "execute_result"
    }
   ],
   "source": [
    "model.coef_"
   ]
  },
  {
   "cell_type": "code",
   "execution_count": 38,
   "id": "352e2818-2098-4fe8-9c6b-15f2837b2133",
   "metadata": {},
   "outputs": [],
   "source": [
    "# Get one-hot encoded feature names\n",
    "cat_features = preprocessor.named_transformers_['cat'].get_feature_names_out(categorical_cols)\n",
    "\n",
    "# Combine with numeric column names\n",
    "all_feature_names = list(cat_features) + ['total_bill', 'size']  # or whatever numerical columns you used\n"
   ]
  },
  {
   "cell_type": "code",
   "execution_count": 40,
   "id": "30d87f2d-1b81-4402-b835-dccf8be60adc",
   "metadata": {},
   "outputs": [
    {
     "data": {
      "text/plain": [
       "day_Sat      -0.639398\n",
       "time_Lunch   -0.508547\n",
       "size          0.342464\n",
       "total_bill    0.164909\n",
       "day_Thur     -0.142560\n",
       "smoker_Yes    0.106046\n",
       "sex_Male     -0.095892\n",
       "day_Sun      -0.085902\n",
       "dtype: float64"
      ]
     },
     "execution_count": 40,
     "metadata": {},
     "output_type": "execute_result"
    }
   ],
   "source": [
    "import pandas as pd\n",
    "\n",
    "coefs = model.coef_[0]\n",
    "feature_importance = pd.Series(coefs, index=all_feature_names).sort_values(key=abs, ascending=False)\n",
    "\n",
    "feature_importance\n"
   ]
  },
  {
   "cell_type": "code",
   "execution_count": 42,
   "id": "3d7106e6-2328-4383-9e99-5a68eac09be2",
   "metadata": {},
   "outputs": [],
   "source": [
    "# A positive coefficient → increases the likelihood of a high tip.\n",
    "\n",
    "# A negative coefficient → decreases the likelihood of a high tip."
   ]
  },
  {
   "cell_type": "code",
   "execution_count": 68,
   "id": "fba06ad1-194e-42a1-858c-dd74191c1b1c",
   "metadata": {},
   "outputs": [
    {
     "data": {
      "image/png": "[encoded data removed]",
      "text/plain": [
       "<Figure size 640x480 with 1 Axes>"
      ]
     },
     "metadata": {},
     "output_type": "display_data"
    }
   ],
   "source": [
    "import matplotlib.pyplot as plt\n",
    "\n",
    "# Sample data for stacked bar plot\n",
    "data = feature_importance\n",
    "\n",
    "# Stacked bar plot\n",
    "data.plot(kind='barh', stacked=True, title=\"Features' Coefficient\")\n",
    "plt.xlabel('Coefficient')\n",
    "plt.ylabel('Feature')\n",
    "plt.grid(True)\n",
    "plt.savefig('Features_Coefficient.png', dpi=300, bbox_inches='tight')\n",
    "plt.show()"
   ]
  },
  {
   "cell_type": "code",
   "execution_count": 70,
   "id": "adb31841-153b-4ca2-bb78-1c4ba0fd7372",
   "metadata": {},
   "outputs": [],
   "source": [
    "# day_sat and time_lunch have the strongest negative impact on predicting a high tip.\n",
    "\n",
    "# size has the strongest positive impact. Bigger groups are more likely to leave high tips."
   ]
  },
  {
   "cell_type": "markdown",
   "id": "326bbbc8-ce68-4fc8-ba99-9441a7fce1c6",
   "metadata": {},
   "source": [
    "🔍 Step 6 – Model Evaluation (in more detail)\n",
    "\n",
    "We'll expand on your accuracy metric with:\n",
    "\n",
    "    Confusion Matrix (📊 shows true positives, false positives, etc.)\n",
    "\n",
    "    Classification Report (📄 precision, recall, f1-score)\n",
    "\n",
    "    Optional: ROC Curve & AUC score (📈 if you want visual evaluation)"
   ]
  },
  {
   "cell_type": "code",
   "execution_count": 72,
   "id": "48cb8546-960c-404a-822a-c7fecc2d3b0a",
   "metadata": {},
   "outputs": [
    {
     "data": {
      "image/png": "[encoded data removed]",
      "text/plain": [
       "<Figure size 500x400 with 2 Axes>"
      ]
     },
     "metadata": {},
     "output_type": "display_data"
    },
    {
     "name": "stdout",
     "output_type": "stream",
     "text": [
      "\n",
      "Classification Report:\n",
      "              precision    recall  f1-score   support\n",
      "\n",
      "     Low Tip       0.85      0.71      0.77        31\n",
      "    High Tip       0.61      0.78      0.68        18\n",
      "\n",
      "    accuracy                           0.73        49\n",
      "   macro avg       0.73      0.74      0.73        49\n",
      "weighted avg       0.76      0.73      0.74        49\n",
      "\n"
     ]
    },
    {
     "data": {
      "image/png": "[encoded data removed]",
      "text/plain": [
       "<Figure size 600x400 with 1 Axes>"
      ]
     },
     "metadata": {},
     "output_type": "display_data"
    }
   ],
   "source": [
    "from sklearn.metrics import confusion_matrix, classification_report, roc_curve, roc_auc_score\n",
    "import matplotlib.pyplot as plt\n",
    "import seaborn as sns\n",
    "\n",
    "# 1. Confusion Matrix\n",
    "y_pred = model.predict(x_test)\n",
    "cm = confusion_matrix(y_test, y_pred)\n",
    "\n",
    "plt.figure(figsize=(5,4))\n",
    "sns.heatmap(cm, annot=True, fmt='d', cmap='Blues', xticklabels=['Low Tip', 'High Tip'], yticklabels=['Low Tip', 'High Tip'])\n",
    "plt.title(\"Confusion Matrix\")\n",
    "plt.xlabel(\"Predicted\")\n",
    "plt.ylabel(\"Actual\")\n",
    "plt.tight_layout()\n",
    "plt.show()\n",
    "\n",
    "# 2. Classification Report\n",
    "print(\"\\nClassification Report:\")\n",
    "print(classification_report(y_test, y_pred, target_names=['Low Tip', 'High Tip']))\n",
    "\n",
    "# 3. ROC Curve + AUC\n",
    "y_proba = model.predict_proba(x_test)[:, 1]\n",
    "fpr, tpr, _ = roc_curve(y_test, y_proba)\n",
    "auc_score = roc_auc_score(y_test, y_proba)\n",
    "\n",
    "plt.figure(figsize=(6,4))\n",
    "plt.plot(fpr, tpr, label=f\"AUC = {auc_score:.2f}\")\n",
    "plt.plot([0,1], [0,1], linestyle='--', color='gray')\n",
    "plt.xlabel(\"False Positive Rate\")\n",
    "plt.ylabel(\"True Positive Rate\")\n",
    "plt.title(\"ROC Curve\")\n",
    "plt.legend()\n",
    "plt.tight_layout()\n",
    "plt.show()\n"
   ]
  },
  {
   "cell_type": "code",
   "execution_count": null,
   "id": "4beb59b6-7960-4f21-b3d8-e67c0c3403f5",
   "metadata": {},
   "outputs": [],
   "source": [
    "# The model can distinguish between high and low tips about 83% of the time."
   ]
  }
 ],
 "metadata": {
  "kernelspec": {
   "display_name": "Python [conda env:base] *",
   "language": "python",
   "name": "conda-base-py"
  },
  "language_info": {
   "codemirror_mode": {
    "name": "ipython",
    "version": 3
   },
   "file_extension": ".py",
   "mimetype": "text/x-python",
   "name": "python",
   "nbconvert_exporter": "python",
   "pygments_lexer": "ipython3",
   "version": "3.12.7"
  }
 },
 "nbformat": 4,
 "nbformat_minor": 5
}
